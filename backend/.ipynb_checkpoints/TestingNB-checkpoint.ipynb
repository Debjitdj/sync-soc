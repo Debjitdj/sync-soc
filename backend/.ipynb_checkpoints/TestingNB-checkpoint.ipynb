{
 "cells": [
  {
   "cell_type": "code",
   "execution_count": 15,
   "metadata": {},
   "outputs": [],
   "source": [
    "from model import Model\n",
    "from bson.objectid import ObjectId"
   ]
  },
  {
   "cell_type": "code",
   "execution_count": 2,
   "metadata": {},
   "outputs": [],
   "source": [
    "model = Model()"
   ]
  },
  {
   "cell_type": "code",
   "execution_count": 21,
   "metadata": {},
   "outputs": [
    {
     "data": {
      "text/plain": [
       "([{'_id': ObjectId('5db583b03c712161122e94db'),\n",
       "   'name': 'Sync Society',\n",
       "   'mailingList': []}],\n",
       " [{'_id': ObjectId('5db592d5008d22bf4b77fb0f'),\n",
       "   'weekDay': 'Monday',\n",
       "   'date': '28/10/2019',\n",
       "   'slots': [[],\n",
       "    [],\n",
       "    [],\n",
       "    [],\n",
       "    [],\n",
       "    [],\n",
       "    [],\n",
       "    [],\n",
       "    [],\n",
       "    [],\n",
       "    [],\n",
       "    [],\n",
       "    [],\n",
       "    [],\n",
       "    [],\n",
       "    [],\n",
       "    [],\n",
       "    [],\n",
       "    [],\n",
       "    [],\n",
       "    [],\n",
       "    [],\n",
       "    [],\n",
       "    [],\n",
       "    [],\n",
       "    [],\n",
       "    [],\n",
       "    [],\n",
       "    [],\n",
       "    [],\n",
       "    [],\n",
       "    [],\n",
       "    [],\n",
       "    [],\n",
       "    [],\n",
       "    [],\n",
       "    [],\n",
       "    [],\n",
       "    [],\n",
       "    [],\n",
       "    [],\n",
       "    [],\n",
       "    [],\n",
       "    [],\n",
       "    [],\n",
       "    [],\n",
       "    [],\n",
       "    []]}],\n",
       " [{'_id': ObjectId('5db592ec008d22bf4b77fb11'),\n",
       "   'comm_id': '5db583b03c712161122e94db',\n",
       "   'date': '29/10/2019',\n",
       "   'start': 30,\n",
       "   'end': 30},\n",
       "  {'_id': ObjectId('5db592f3008d22bf4b77fb12'),\n",
       "   'comm_id': '5db583b03c712161122e94db',\n",
       "   'date': '28/10/2019',\n",
       "   'start': 30,\n",
       "   'end': 30},\n",
       "  {'_id': ObjectId('5db59300008d22bf4b77fb13'),\n",
       "   'comm_id': '5db583b03c712161122e94db',\n",
       "   'date': '28/10/2019',\n",
       "   'start': 30,\n",
       "   'end': 35},\n",
       "  {'_id': ObjectId('5db5935729e9001b3661002b'),\n",
       "   'comm_id': '5db583b03c712161122e94db',\n",
       "   'date': '28/10/2019',\n",
       "   'start': 30,\n",
       "   'end': 35}])"
      ]
     },
     "execution_count": 21,
     "metadata": {},
     "output_type": "execute_result"
    }
   ],
   "source": [
    "list(model.communities.find()), list(model.days.find()), list(model.events.find())"
   ]
  },
  {
   "cell_type": "code",
   "execution_count": 24,
   "metadata": {},
   "outputs": [
    {
     "data": {
      "text/plain": [
       "<pymongo.results.DeleteResult at 0x7f848b270f08>"
      ]
     },
     "execution_count": 24,
     "metadata": {},
     "output_type": "execute_result"
    }
   ],
   "source": [
    "#model.events.delete_one({'_id': ObjectId('5db592de008d22bf4b77fb13')})"
   ]
  },
  {
   "cell_type": "code",
   "execution_count": 11,
   "metadata": {},
   "outputs": [
    {
     "name": "stdout",
     "output_type": "stream",
     "text": [
      "fix week day!!!\n"
     ]
    }
   ],
   "source": [
    "model.add_event(community_id='5db583b03c712161122e94db', date='29/10/2019', start_slot=30, end_slot=35)"
   ]
  },
  {
   "cell_type": "code",
   "execution_count": 10,
   "metadata": {},
   "outputs": [
    {
     "name": "stdout",
     "output_type": "stream",
     "text": [
      "{'_id': ObjectId('5db59300008d22bf4b77fb13'), 'comm_id': '5db583b03c712161122e94db', 'date': '28/10/2019', 'start': 30, 'end': 35}\n",
      "[[], [], [], [], [], [], [], [], [], [], [], [], [], [], [], [], [], [], [], [], [], [], [], [], [], [], [], [], [], [], [], [], [], [], [], [], [], [], [], [], [], [], [], [], [], [], [], []]\n",
      "[] 5db59300008d22bf4b77fb13\n"
     ]
    },
    {
     "ename": "ValueError",
     "evalue": "list.remove(x): x not in list",
     "output_type": "error",
     "traceback": [
      "\u001b[0;31m---------------------------------------------------------------------------\u001b[0m",
      "\u001b[0;31mValueError\u001b[0m                                Traceback (most recent call last)",
      "\u001b[0;32m<ipython-input-10-f7e7c91f01ba>\u001b[0m in \u001b[0;36m<module>\u001b[0;34m\u001b[0m\n\u001b[0;32m----> 1\u001b[0;31m \u001b[0mmodel\u001b[0m\u001b[0;34m.\u001b[0m\u001b[0mremove_event\u001b[0m\u001b[0;34m(\u001b[0m\u001b[0;34m'5db59300008d22bf4b77fb13'\u001b[0m\u001b[0;34m)\u001b[0m\u001b[0;34m\u001b[0m\u001b[0;34m\u001b[0m\u001b[0m\n\u001b[0m",
      "\u001b[0;32m~/Documents/github/sync-soc/backend/model.py\u001b[0m in \u001b[0;36mremove_event\u001b[0;34m(self, event_id)\u001b[0m\n\u001b[1;32m     37\u001b[0m         \u001b[0;32mfor\u001b[0m \u001b[0mi\u001b[0m \u001b[0;32min\u001b[0m \u001b[0mrange\u001b[0m\u001b[0;34m(\u001b[0m\u001b[0mevent\u001b[0m\u001b[0;34m[\u001b[0m\u001b[0;34m'start'\u001b[0m\u001b[0;34m]\u001b[0m\u001b[0;34m,\u001b[0m \u001b[0mevent\u001b[0m\u001b[0;34m[\u001b[0m\u001b[0;34m'end'\u001b[0m\u001b[0;34m]\u001b[0m\u001b[0;34m)\u001b[0m\u001b[0;34m:\u001b[0m\u001b[0;34m\u001b[0m\u001b[0;34m\u001b[0m\u001b[0m\n\u001b[1;32m     38\u001b[0m             \u001b[0mprint\u001b[0m\u001b[0;34m(\u001b[0m\u001b[0mslots\u001b[0m\u001b[0;34m[\u001b[0m\u001b[0mi\u001b[0m\u001b[0;34m]\u001b[0m\u001b[0;34m,\u001b[0m \u001b[0mevent_id\u001b[0m\u001b[0;34m)\u001b[0m\u001b[0;34m\u001b[0m\u001b[0;34m\u001b[0m\u001b[0m\n\u001b[0;32m---> 39\u001b[0;31m             \u001b[0mslots\u001b[0m\u001b[0;34m[\u001b[0m\u001b[0mi\u001b[0m\u001b[0;34m]\u001b[0m\u001b[0;34m.\u001b[0m\u001b[0mremove\u001b[0m\u001b[0;34m(\u001b[0m\u001b[0mevent_id\u001b[0m\u001b[0;34m)\u001b[0m\u001b[0;34m\u001b[0m\u001b[0;34m\u001b[0m\u001b[0m\n\u001b[0m\u001b[1;32m     40\u001b[0m         self.days.find_one_and_update({\"_id\": day_id}, \n\u001b[1;32m     41\u001b[0m                                  {\"$set\": {\"slots\": slots}})\n",
      "\u001b[0;31mValueError\u001b[0m: list.remove(x): x not in list"
     ]
    }
   ],
   "source": [
    "model.remove_event('5db59300008d22bf4b77fb13')"
   ]
  },
  {
   "cell_type": "code",
   "execution_count": 6,
   "metadata": {},
   "outputs": [
    {
     "data": {
      "text/plain": [
       "([{'_id': ObjectId('5db583b03c712161122e94db'),\n",
       "   'name': 'Sync Society',\n",
       "   'mailingList': []}],\n",
       " [{'_id': ObjectId('5db592d5008d22bf4b77fb0f'),\n",
       "   'weekDay': 'Monday',\n",
       "   'date': '28/10/2019',\n",
       "   'slots': [[],\n",
       "    [],\n",
       "    [],\n",
       "    [],\n",
       "    [],\n",
       "    [],\n",
       "    [],\n",
       "    [],\n",
       "    [],\n",
       "    [],\n",
       "    [],\n",
       "    [],\n",
       "    [],\n",
       "    [],\n",
       "    [],\n",
       "    [],\n",
       "    [],\n",
       "    [],\n",
       "    [],\n",
       "    [],\n",
       "    [],\n",
       "    [],\n",
       "    [],\n",
       "    [],\n",
       "    [],\n",
       "    [],\n",
       "    [],\n",
       "    [],\n",
       "    [],\n",
       "    [],\n",
       "    ['5db59300008d22bf4b77fb13'],\n",
       "    ['5db59300008d22bf4b77fb13'],\n",
       "    ['5db59300008d22bf4b77fb13'],\n",
       "    ['5db59300008d22bf4b77fb13'],\n",
       "    ['5db59300008d22bf4b77fb13'],\n",
       "    [],\n",
       "    [],\n",
       "    [],\n",
       "    [],\n",
       "    [],\n",
       "    [],\n",
       "    [],\n",
       "    [],\n",
       "    [],\n",
       "    [],\n",
       "    [],\n",
       "    [],\n",
       "    []]}],\n",
       " [{'_id': ObjectId('5db592de008d22bf4b77fb10'),\n",
       "   'comm_id': '5db583b03c712161122e94db',\n",
       "   'date': '01/11/2019',\n",
       "   'start': 30,\n",
       "   'end': 30},\n",
       "  {'_id': ObjectId('5db592ec008d22bf4b77fb11'),\n",
       "   'comm_id': '5db583b03c712161122e94db',\n",
       "   'date': '29/10/2019',\n",
       "   'start': 30,\n",
       "   'end': 30},\n",
       "  {'_id': ObjectId('5db592f3008d22bf4b77fb12'),\n",
       "   'comm_id': '5db583b03c712161122e94db',\n",
       "   'date': '28/10/2019',\n",
       "   'start': 30,\n",
       "   'end': 30},\n",
       "  {'_id': ObjectId('5db59300008d22bf4b77fb13'),\n",
       "   'comm_id': '5db583b03c712161122e94db',\n",
       "   'date': '28/10/2019',\n",
       "   'start': 30,\n",
       "   'end': 35},\n",
       "  {'_id': ObjectId('5db5935729e9001b3661002b'),\n",
       "   'comm_id': '5db583b03c712161122e94db',\n",
       "   'date': '28/10/2019',\n",
       "   'start': 30,\n",
       "   'end': 35}])"
      ]
     },
     "execution_count": 6,
     "metadata": {},
     "output_type": "execute_result"
    }
   ],
   "source": [
    "list(model.communities.find()), list(model.days.find()), list(model.events.find())"
   ]
  },
  {
   "cell_type": "code",
   "execution_count": 7,
   "metadata": {},
   "outputs": [],
   "source": [
    "a = ['5db59300008d22bf4b77fb13', '5db59300008d22bf4b77fb13']\n",
    "a.remove('5db59300008d22bf4b77fb13')"
   ]
  },
  {
   "cell_type": "code",
   "execution_count": 8,
   "metadata": {},
   "outputs": [
    {
     "data": {
      "text/plain": [
       "['5db59300008d22bf4b77fb13']"
      ]
     },
     "execution_count": 8,
     "metadata": {},
     "output_type": "execute_result"
    }
   ],
   "source": [
    "a"
   ]
  },
  {
   "cell_type": "code",
   "execution_count": null,
   "metadata": {},
   "outputs": [],
   "source": []
  }
 ],
 "metadata": {
  "kernelspec": {
   "display_name": "Python 3",
   "language": "python",
   "name": "python3"
  },
  "language_info": {
   "codemirror_mode": {
    "name": "ipython",
    "version": 3
   },
   "file_extension": ".py",
   "mimetype": "text/x-python",
   "name": "python",
   "nbconvert_exporter": "python",
   "pygments_lexer": "ipython3",
   "version": "3.7.3"
  }
 },
 "nbformat": 4,
 "nbformat_minor": 2
}
