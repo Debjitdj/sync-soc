{
 "cells": [
  {
   "cell_type": "code",
   "execution_count": 1,
   "metadata": {},
   "outputs": [],
   "source": [
    "from model import Model"
   ]
  },
  {
   "cell_type": "code",
   "execution_count": 2,
   "metadata": {},
   "outputs": [],
   "source": [
    "model = Model()"
   ]
  },
  {
   "cell_type": "code",
   "execution_count": 3,
   "metadata": {},
   "outputs": [
    {
     "data": {
      "text/plain": [
       "([{'_id': ObjectId('5db583b03c712161122e94db'),\n",
       "   'name': 'Sync Society',\n",
       "   'mailingList': []}],\n",
       " [{'_id': ObjectId('5db592d5008d22bf4b77fb0f'),\n",
       "   'weekDay': 'Monday',\n",
       "   'date': '28/10/2019',\n",
       "   'slots': [[],\n",
       "    [],\n",
       "    [],\n",
       "    [],\n",
       "    [],\n",
       "    [],\n",
       "    [],\n",
       "    [],\n",
       "    [],\n",
       "    [],\n",
       "    [],\n",
       "    [],\n",
       "    [],\n",
       "    [],\n",
       "    [],\n",
       "    [],\n",
       "    [],\n",
       "    [],\n",
       "    [],\n",
       "    [],\n",
       "    [],\n",
       "    [],\n",
       "    [],\n",
       "    [],\n",
       "    [],\n",
       "    [],\n",
       "    [],\n",
       "    [],\n",
       "    [],\n",
       "    [],\n",
       "    ['5db59300008d22bf4b77fb13'],\n",
       "    ['5db59300008d22bf4b77fb13'],\n",
       "    ['5db59300008d22bf4b77fb13'],\n",
       "    ['5db59300008d22bf4b77fb13'],\n",
       "    ['5db59300008d22bf4b77fb13'],\n",
       "    [],\n",
       "    [],\n",
       "    [],\n",
       "    [],\n",
       "    [],\n",
       "    [],\n",
       "    [],\n",
       "    [],\n",
       "    [],\n",
       "    [],\n",
       "    [],\n",
       "    [],\n",
       "    []]}],\n",
       " [{'_id': ObjectId('5db592de008d22bf4b77fb10'),\n",
       "   'comm_id': '5db583b03c712161122e94db',\n",
       "   'date': '01/11/2019',\n",
       "   'start': 30,\n",
       "   'end': 30},\n",
       "  {'_id': ObjectId('5db592ec008d22bf4b77fb11'),\n",
       "   'comm_id': '5db583b03c712161122e94db',\n",
       "   'date': '29/10/2019',\n",
       "   'start': 30,\n",
       "   'end': 30},\n",
       "  {'_id': ObjectId('5db592f3008d22bf4b77fb12'),\n",
       "   'comm_id': '5db583b03c712161122e94db',\n",
       "   'date': '28/10/2019',\n",
       "   'start': 30,\n",
       "   'end': 30},\n",
       "  {'_id': ObjectId('5db59300008d22bf4b77fb13'),\n",
       "   'comm_id': '5db583b03c712161122e94db',\n",
       "   'date': '28/10/2019',\n",
       "   'start': 30,\n",
       "   'end': 35}])"
      ]
     },
     "execution_count": 3,
     "metadata": {},
     "output_type": "execute_result"
    }
   ],
   "source": [
    "list(model.communities.find()), list(model.days.find()), list(model.events.find())"
   ]
  },
  {
   "cell_type": "code",
   "execution_count": 4,
   "metadata": {},
   "outputs": [],
   "source": [
    "#model.add_event(community_id='5db583b03c712161122e94db', date='28/10/2019', start_slot=30, end_slot=35)"
   ]
  },
  {
   "cell_type": "code",
   "execution_count": 5,
   "metadata": {},
   "outputs": [
    {
     "name": "stdout",
     "output_type": "stream",
     "text": [
      "{'_id': ObjectId('5db59300008d22bf4b77fb13'), 'comm_id': '5db583b03c712161122e94db', 'date': '28/10/2019', 'start': 30, 'end': 35}\n",
      "[[], [], [], [], [], [], [], [], [], [], [], [], [], [], [], [], [], [], [], [], [], [], [], [], [], [], [], [], [], [], ['5db59300008d22bf4b77fb13', '5db59300008d22bf4b77fb13'], ['5db59300008d22bf4b77fb13', '5db59300008d22bf4b77fb13'], ['5db59300008d22bf4b77fb13', '5db59300008d22bf4b77fb13'], ['5db59300008d22bf4b77fb13', '5db59300008d22bf4b77fb13'], ['5db59300008d22bf4b77fb13', '5db59300008d22bf4b77fb13'], [], [], [], [], [], [], [], [], [], [], [], [], []]\n",
      "['5db59300008d22bf4b77fb13', '5db59300008d22bf4b77fb13'] 5db59300008d22bf4b77fb13\n",
      "['5db59300008d22bf4b77fb13', '5db59300008d22bf4b77fb13'] 5db59300008d22bf4b77fb13\n",
      "['5db59300008d22bf4b77fb13', '5db59300008d22bf4b77fb13'] 5db59300008d22bf4b77fb13\n",
      "['5db59300008d22bf4b77fb13', '5db59300008d22bf4b77fb13'] 5db59300008d22bf4b77fb13\n",
      "['5db59300008d22bf4b77fb13', '5db59300008d22bf4b77fb13'] 5db59300008d22bf4b77fb13\n"
     ]
    }
   ],
   "source": [
    "model.remove_event('5db59300008d22bf4b77fb13')"
   ]
  },
  {
   "cell_type": "code",
   "execution_count": 6,
   "metadata": {},
   "outputs": [
    {
     "data": {
      "text/plain": [
       "([{'_id': ObjectId('5db583b03c712161122e94db'),\n",
       "   'name': 'Sync Society',\n",
       "   'mailingList': []}],\n",
       " [{'_id': ObjectId('5db592d5008d22bf4b77fb0f'),\n",
       "   'weekDay': 'Monday',\n",
       "   'date': '28/10/2019',\n",
       "   'slots': [[],\n",
       "    [],\n",
       "    [],\n",
       "    [],\n",
       "    [],\n",
       "    [],\n",
       "    [],\n",
       "    [],\n",
       "    [],\n",
       "    [],\n",
       "    [],\n",
       "    [],\n",
       "    [],\n",
       "    [],\n",
       "    [],\n",
       "    [],\n",
       "    [],\n",
       "    [],\n",
       "    [],\n",
       "    [],\n",
       "    [],\n",
       "    [],\n",
       "    [],\n",
       "    [],\n",
       "    [],\n",
       "    [],\n",
       "    [],\n",
       "    [],\n",
       "    [],\n",
       "    [],\n",
       "    ['5db59300008d22bf4b77fb13', '5db59300008d22bf4b77fb13'],\n",
       "    ['5db59300008d22bf4b77fb13', '5db59300008d22bf4b77fb13'],\n",
       "    ['5db59300008d22bf4b77fb13', '5db59300008d22bf4b77fb13'],\n",
       "    ['5db59300008d22bf4b77fb13', '5db59300008d22bf4b77fb13'],\n",
       "    ['5db59300008d22bf4b77fb13', '5db59300008d22bf4b77fb13'],\n",
       "    [],\n",
       "    [],\n",
       "    [],\n",
       "    [],\n",
       "    [],\n",
       "    [],\n",
       "    [],\n",
       "    [],\n",
       "    [],\n",
       "    [],\n",
       "    [],\n",
       "    [],\n",
       "    []]}],\n",
       " [{'_id': ObjectId('5db592de008d22bf4b77fb10'),\n",
       "   'comm_id': '5db583b03c712161122e94db',\n",
       "   'date': '01/11/2019',\n",
       "   'start': 30,\n",
       "   'end': 30},\n",
       "  {'_id': ObjectId('5db592ec008d22bf4b77fb11'),\n",
       "   'comm_id': '5db583b03c712161122e94db',\n",
       "   'date': '29/10/2019',\n",
       "   'start': 30,\n",
       "   'end': 30},\n",
       "  {'_id': ObjectId('5db592f3008d22bf4b77fb12'),\n",
       "   'comm_id': '5db583b03c712161122e94db',\n",
       "   'date': '28/10/2019',\n",
       "   'start': 30,\n",
       "   'end': 30},\n",
       "  {'_id': ObjectId('5db59300008d22bf4b77fb13'),\n",
       "   'comm_id': '5db583b03c712161122e94db',\n",
       "   'date': '28/10/2019',\n",
       "   'start': 30,\n",
       "   'end': 35},\n",
       "  {'_id': ObjectId('5db5935729e9001b3661002b'),\n",
       "   'comm_id': '5db583b03c712161122e94db',\n",
       "   'date': '28/10/2019',\n",
       "   'start': 30,\n",
       "   'end': 35}])"
      ]
     },
     "execution_count": 6,
     "metadata": {},
     "output_type": "execute_result"
    }
   ],
   "source": [
    "list(model.communities.find()), list(model.days.find()), list(model.events.find())"
   ]
  },
  {
   "cell_type": "code",
   "execution_count": null,
   "metadata": {},
   "outputs": [],
   "source": []
  }
 ],
 "metadata": {
  "kernelspec": {
   "display_name": "Python 3",
   "language": "python",
   "name": "python3"
  },
  "language_info": {
   "codemirror_mode": {
    "name": "ipython",
    "version": 3
   },
   "file_extension": ".py",
   "mimetype": "text/x-python",
   "name": "python",
   "nbconvert_exporter": "python",
   "pygments_lexer": "ipython3",
   "version": "3.7.3"
  }
 },
 "nbformat": 4,
 "nbformat_minor": 2
}
